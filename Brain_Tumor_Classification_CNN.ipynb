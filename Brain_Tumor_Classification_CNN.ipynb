{
 "cells": [
  {
   "cell_type": "code",
   "execution_count": 1,
   "id": "66c2f094",
   "metadata": {
    "_cell_guid": "b1076dfc-b9ad-4769-8c92-a6c4dae69d19",
    "_uuid": "8f2839f25d086af736a60e9eeb907d3b93b6e0e5",
    "execution": {
     "iopub.execute_input": "2021-11-03T06:06:19.779141Z",
     "iopub.status.busy": "2021-11-03T06:06:19.777180Z",
     "iopub.status.idle": "2021-11-03T06:06:20.075624Z",
     "shell.execute_reply": "2021-11-03T06:06:20.074847Z",
     "shell.execute_reply.started": "2021-11-03T05:40:55.219075Z"
    },
    "papermill": {
     "duration": 0.322091,
     "end_time": "2021-11-03T06:06:20.075805",
     "exception": false,
     "start_time": "2021-11-03T06:06:19.753714",
     "status": "completed"
    },
    "tags": []
   },
   "outputs": [],
   "source": [
    "import numpy as np\n",
    "import pandas as pd\n",
    "import os\n",
    "from keras.callbacks import EarlyStopping\n",
    "from keras.callbacks import ModelCheckpoint"
   ]
  },
  {
   "cell_type": "code",
   "execution_count": 2,
   "id": "9d50c595",
   "metadata": {},
   "outputs": [],
   "source": [
    "for dirname, _, filenames in os.walk('D:\\brain_tumor_dataset\\data'):\n",
    "    for filename in filenames:\n",
    "        print(os.path.join(dirname, filename))"
   ]
  },
  {
   "cell_type": "markdown",
   "id": "fc8e1bd1",
   "metadata": {
    "papermill": {
     "duration": 0.019734,
     "end_time": "2021-11-03T06:06:20.114212",
     "exception": false,
     "start_time": "2021-11-03T06:06:20.094478",
     "status": "completed"
    },
    "tags": []
   },
   "source": [
    "# **Let's Import Required Libraries**"
   ]
  },
  {
   "cell_type": "code",
   "execution_count": 3,
   "id": "81b2b3e2",
   "metadata": {
    "execution": {
     "iopub.execute_input": "2021-11-03T06:06:20.159060Z",
     "iopub.status.busy": "2021-11-03T06:06:20.158093Z",
     "iopub.status.idle": "2021-11-03T06:06:27.127648Z",
     "shell.execute_reply": "2021-11-03T06:06:27.126897Z",
     "shell.execute_reply.started": "2021-11-03T05:41:27.654399Z"
    },
    "papermill": {
     "duration": 6.994772,
     "end_time": "2021-11-03T06:06:27.127799",
     "exception": false,
     "start_time": "2021-11-03T06:06:20.133027",
     "status": "completed"
    },
    "tags": []
   },
   "outputs": [],
   "source": [
    "import os\n",
    "import keras \n",
    "from keras.models import Sequential\n",
    "from keras.layers import Conv2D, MaxPooling2D, Flatten, Dense, Dropout, BatchNormalization\n",
    "from PIL import Image\n",
    "import numpy as np\n",
    "import pandas as pd\n",
    "import matplotlib.pyplot as plt\n",
    "plt.style.use('dark_background')\n",
    "from sklearn.model_selection import train_test_split\n",
    "from sklearn.preprocessing import OneHotEncoder"
   ]
  },
  {
   "cell_type": "markdown",
   "id": "1e9c9b45",
   "metadata": {
    "papermill": {
     "duration": 0.017525,
     "end_time": "2021-11-03T06:06:27.164098",
     "exception": false,
     "start_time": "2021-11-03T06:06:27.146573",
     "status": "completed"
    },
    "tags": []
   },
   "source": [
    "# **One Hot Encoding the Target Classes**"
   ]
  },
  {
   "cell_type": "code",
   "execution_count": 4,
   "id": "91c66518",
   "metadata": {
    "execution": {
     "iopub.execute_input": "2021-11-03T06:06:27.207330Z",
     "iopub.status.busy": "2021-11-03T06:06:27.203026Z",
     "iopub.status.idle": "2021-11-03T06:06:27.217362Z",
     "shell.execute_reply": "2021-11-03T06:06:27.216698Z",
     "shell.execute_reply.started": "2021-11-03T05:41:43.343694Z"
    },
    "papermill": {
     "duration": 0.035444,
     "end_time": "2021-11-03T06:06:27.217516",
     "exception": false,
     "start_time": "2021-11-03T06:06:27.182072",
     "status": "completed"
    },
    "tags": []
   },
   "outputs": [
    {
     "data": {
      "text/plain": [
       "OneHotEncoder()"
      ]
     },
     "execution_count": 4,
     "metadata": {},
     "output_type": "execute_result"
    }
   ],
   "source": [
    "encoder = OneHotEncoder()\n",
    "encoder.fit([[0], [1]]) \n",
    "\n",
    "# 0 - Tumor\n",
    "# 1 - Normal"
   ]
  },
  {
   "cell_type": "markdown",
   "id": "c8aa1440",
   "metadata": {
    "papermill": {
     "duration": 0.018288,
     "end_time": "2021-11-03T06:06:27.254736",
     "exception": false,
     "start_time": "2021-11-03T06:06:27.236448",
     "status": "completed"
    },
    "tags": []
   },
   "source": [
    "# **Creating 3 Important Lists** \n",
    "1. data list for storing image data in numpy array form\n",
    "2. paths list for storing paths of all images\n",
    "3. result list for storing one hot encoded form of target class whether normal or tumor  "
   ]
  },
  {
   "cell_type": "code",
   "execution_count": 5,
   "id": "63c56498",
   "metadata": {
    "execution": {
     "iopub.execute_input": "2021-11-03T06:06:27.295137Z",
     "iopub.status.busy": "2021-11-03T06:06:27.294101Z",
     "iopub.status.idle": "2021-11-03T06:06:28.509603Z",
     "shell.execute_reply": "2021-11-03T06:06:28.508945Z",
     "shell.execute_reply.started": "2021-11-03T05:42:22.444389Z"
    },
    "papermill": {
     "duration": 1.236659,
     "end_time": "2021-11-03T06:06:28.509753",
     "exception": false,
     "start_time": "2021-11-03T06:06:27.273094",
     "status": "completed"
    },
    "tags": []
   },
   "outputs": [],
   "source": [
    "# This cell updates result list for images with tumor\n",
    "\n",
    "data = []\n",
    "paths = []\n",
    "result = []\n",
    "\n",
    "for r, d, f in os.walk(r'D:\\brain_tumor_dataset\\data\\yes'):\n",
    "    for file in f:\n",
    "        if '.jpg' in file:\n",
    "            paths.append(os.path.join(r, file))\n",
    "\n",
    "for path in paths:\n",
    "    img = Image.open(path)\n",
    "    img = img.resize((128,128))\n",
    "    img = np.array(img)\n",
    "    if(img.shape == (128,128,3)):\n",
    "        data.append(np.array(img))\n",
    "        result.append(encoder.transform([[0]]).toarray())"
   ]
  },
  {
   "cell_type": "code",
   "execution_count": 6,
   "id": "616c232c",
   "metadata": {
    "execution": {
     "iopub.execute_input": "2021-11-03T06:06:28.554867Z",
     "iopub.status.busy": "2021-11-03T06:06:28.553986Z",
     "iopub.status.idle": "2021-11-03T06:06:29.402587Z",
     "shell.execute_reply": "2021-11-03T06:06:29.403604Z",
     "shell.execute_reply.started": "2021-11-03T05:42:54.375697Z"
    },
    "papermill": {
     "duration": 0.875411,
     "end_time": "2021-11-03T06:06:29.403811",
     "exception": false,
     "start_time": "2021-11-03T06:06:28.528400",
     "status": "completed"
    },
    "tags": []
   },
   "outputs": [],
   "source": [
    "# This cell updates result list for images without tumor\n",
    "\n",
    "paths = []\n",
    "for r, d, f in os.walk(r\"D:\\brain_tumor_dataset\\data\\no\"):\n",
    "    for file in f:\n",
    "        if '.jpg' in file:\n",
    "            paths.append(os.path.join(r, file))\n",
    "\n",
    "for path in paths:\n",
    "    img = Image.open(path)\n",
    "    img = img.resize((128,128))\n",
    "    img = np.array(img)\n",
    "    if(img.shape == (128,128,3)):\n",
    "        data.append(np.array(img))\n",
    "        result.append(encoder.transform([[1]]).toarray())"
   ]
  },
  {
   "cell_type": "code",
   "execution_count": 7,
   "id": "628a6841",
   "metadata": {
    "execution": {
     "iopub.execute_input": "2021-11-03T06:06:29.446968Z",
     "iopub.status.busy": "2021-11-03T06:06:29.445503Z",
     "iopub.status.idle": "2021-11-03T06:06:29.453877Z",
     "shell.execute_reply": "2021-11-03T06:06:29.453313Z",
     "shell.execute_reply.started": "2021-11-03T05:43:11.698305Z"
    },
    "papermill": {
     "duration": 0.031625,
     "end_time": "2021-11-03T06:06:29.454027",
     "exception": false,
     "start_time": "2021-11-03T06:06:29.422402",
     "status": "completed"
    },
    "tags": []
   },
   "outputs": [
    {
     "data": {
      "text/plain": [
       "(139, 128, 128, 3)"
      ]
     },
     "execution_count": 7,
     "metadata": {},
     "output_type": "execute_result"
    }
   ],
   "source": [
    "data = np.array(data)\n",
    "data.shape"
   ]
  },
  {
   "cell_type": "code",
   "execution_count": 8,
   "id": "07802c49",
   "metadata": {
    "execution": {
     "iopub.execute_input": "2021-11-03T06:06:29.496408Z",
     "iopub.status.busy": "2021-11-03T06:06:29.495529Z",
     "iopub.status.idle": "2021-11-03T06:06:29.497976Z",
     "shell.execute_reply": "2021-11-03T06:06:29.498541Z",
     "shell.execute_reply.started": "2021-11-03T05:43:22.948197Z"
    },
    "papermill": {
     "duration": 0.026291,
     "end_time": "2021-11-03T06:06:29.498715",
     "exception": false,
     "start_time": "2021-11-03T06:06:29.472424",
     "status": "completed"
    },
    "tags": []
   },
   "outputs": [],
   "source": [
    "result = np.array(result)\n",
    "result = result.reshape(139,2)"
   ]
  },
  {
   "cell_type": "markdown",
   "id": "54cb3d80",
   "metadata": {
    "papermill": {
     "duration": 0.018282,
     "end_time": "2021-11-03T06:06:29.535176",
     "exception": false,
     "start_time": "2021-11-03T06:06:29.516894",
     "status": "completed"
    },
    "tags": []
   },
   "source": [
    "# **Splitting the Data into Training & Testing**"
   ]
  },
  {
   "cell_type": "code",
   "execution_count": 9,
   "id": "acb0dbed",
   "metadata": {
    "execution": {
     "iopub.execute_input": "2021-11-03T06:06:29.576302Z",
     "iopub.status.busy": "2021-11-03T06:06:29.575301Z",
     "iopub.status.idle": "2021-11-03T06:06:29.585747Z",
     "shell.execute_reply": "2021-11-03T06:06:29.585091Z",
     "shell.execute_reply.started": "2021-11-03T05:43:37.466521Z"
    },
    "papermill": {
     "duration": 0.031973,
     "end_time": "2021-11-03T06:06:29.585896",
     "exception": false,
     "start_time": "2021-11-03T06:06:29.553923",
     "status": "completed"
    },
    "tags": []
   },
   "outputs": [],
   "source": [
    "x_train,x_test,y_train,y_test = train_test_split(data, result, test_size=0.2, shuffle=True, random_state=0)"
   ]
  },
  {
   "cell_type": "markdown",
   "id": "01c492ce",
   "metadata": {
    "papermill": {
     "duration": 0.018697,
     "end_time": "2021-11-03T06:06:29.622949",
     "exception": false,
     "start_time": "2021-11-03T06:06:29.604252",
     "status": "completed"
    },
    "tags": []
   },
   "source": [
    "# **Model Building**"
   ]
  },
  {
   "cell_type": "code",
   "execution_count": 10,
   "id": "db86a9e1",
   "metadata": {
    "execution": {
     "iopub.execute_input": "2021-11-03T06:06:29.670648Z",
     "iopub.status.busy": "2021-11-03T06:06:29.668399Z",
     "iopub.status.idle": "2021-11-03T06:06:30.379381Z",
     "shell.execute_reply": "2021-11-03T06:06:30.378666Z",
     "shell.execute_reply.started": "2021-11-03T05:44:27.661072Z"
    },
    "papermill": {
     "duration": 0.738011,
     "end_time": "2021-11-03T06:06:30.379559",
     "exception": false,
     "start_time": "2021-11-03T06:06:29.641548",
     "status": "completed"
    },
    "tags": []
   },
   "outputs": [],
   "source": [
    "model = Sequential()\n",
    "\n",
    "model.add(Conv2D(32, kernel_size=(2, 2), input_shape=(128, 128, 3), padding = 'Same'))\n",
    "model.add(Conv2D(32, kernel_size=(2, 2),  activation ='relu', padding = 'Same'))\n",
    "\n",
    "\n",
    "model.add(BatchNormalization())\n",
    "model.add(MaxPooling2D(pool_size=(2, 2)))\n",
    "model.add(Dropout(0.25))\n",
    "\n",
    "model.add(Conv2D(64, kernel_size = (2,2), activation ='relu', padding = 'Same'))\n",
    "model.add(Conv2D(64, kernel_size = (2,2), activation ='relu', padding = 'Same'))\n",
    "\n",
    "model.add(BatchNormalization())\n",
    "model.add(MaxPooling2D(pool_size=(2,2), strides=(2,2)))\n",
    "model.add(Dropout(0.25))\n",
    "\n",
    "model.add(Flatten())\n",
    "\n",
    "model.add(Dense(512, activation='relu'))\n",
    "model.add(Dropout(0.5))\n",
    "model.add(Dense(2, activation='sigmoid'))\n",
    "\n"
   ]
  },
  {
   "cell_type": "code",
   "execution_count": 11,
   "id": "735e62c4",
   "metadata": {
    "execution": {
     "iopub.execute_input": "2021-11-03T06:06:30.425134Z",
     "iopub.status.busy": "2021-11-03T06:06:30.424442Z",
     "iopub.status.idle": "2021-11-03T06:06:30.427803Z",
     "shell.execute_reply": "2021-11-03T06:06:30.427245Z",
     "shell.execute_reply.started": "2021-11-03T05:44:43.931698Z"
    },
    "papermill": {
     "duration": 0.028097,
     "end_time": "2021-11-03T06:06:30.427949",
     "exception": false,
     "start_time": "2021-11-03T06:06:30.399852",
     "status": "completed"
    },
    "tags": []
   },
   "outputs": [
    {
     "data": {
      "text/plain": [
       "(111, 2)"
      ]
     },
     "execution_count": 11,
     "metadata": {},
     "output_type": "execute_result"
    }
   ],
   "source": [
    "y_train.shape"
   ]
  },
  {
   "cell_type": "code",
   "execution_count": 12,
   "id": "ea8c468c",
   "metadata": {},
   "outputs": [],
   "source": [
    "import tensorflow as tf"
   ]
  },
  {
   "cell_type": "code",
   "execution_count": 13,
   "id": "9cb05960",
   "metadata": {},
   "outputs": [],
   "source": [
    "filepath='D://brain_tumor_dataset/S/aved_Model//checkpoints'"
   ]
  },
  {
   "cell_type": "code",
   "execution_count": 14,
   "id": "2f91dbba",
   "metadata": {},
   "outputs": [],
   "source": [
    "callback =EarlyStopping(\n",
    "    monitor=\"val_loss\",\n",
    "    min_delta=0,\n",
    "    patience=5,\n",
    "    verbose=1,\n",
    "    mode=\"auto\",\n",
    "    baseline=None,\n",
    "    restore_best_weights=False,\n",
    ")\n",
    "checkpoint = ModelCheckpoint(filepath,monitor='val_loss',mode='min',save_best_only=True,verbose=1)"
   ]
  },
  {
   "cell_type": "code",
   "execution_count": 15,
   "id": "c115b33a",
   "metadata": {},
   "outputs": [
    {
     "name": "stderr",
     "output_type": "stream",
     "text": [
      "C:\\ProgramData\\Anaconda3\\lib\\site-packages\\keras\\optimizer_v2\\adam.py:105: UserWarning: The `lr` argument is deprecated, use `learning_rate` instead.\n",
      "  super(Adam, self).__init__(name, **kwargs)\n"
     ]
    }
   ],
   "source": [
    "model.compile(tf.keras.optimizers.Adam(lr=2e-5), loss='binary_crossentropy', metrics=['accuracy'])"
   ]
  },
  {
   "cell_type": "code",
   "execution_count": 16,
   "id": "98bb7aa4",
   "metadata": {
    "execution": {
     "iopub.execute_input": "2021-11-03T06:06:30.472602Z",
     "iopub.status.busy": "2021-11-03T06:06:30.469871Z",
     "iopub.status.idle": "2021-11-03T06:07:44.299717Z",
     "shell.execute_reply": "2021-11-03T06:07:44.298830Z",
     "shell.execute_reply.started": "2021-11-03T05:45:08.769099Z"
    },
    "papermill": {
     "duration": 73.852451,
     "end_time": "2021-11-03T06:07:44.299899",
     "exception": false,
     "start_time": "2021-11-03T06:06:30.447448",
     "status": "completed"
    },
    "scrolled": true,
    "tags": []
   },
   "outputs": [
    {
     "name": "stdout",
     "output_type": "stream",
     "text": [
      "Epoch 1/30\n",
      "4/4 [==============================] - ETA: 0s - loss: 1.6594 - accuracy: 0.4595\n",
      "Epoch 00001: val_loss improved from inf to 2.08302, saving model to D:\\brain_tumor_dataset\\checkpoints\n",
      "INFO:tensorflow:Assets written to: D:\\brain_tumor_dataset\\checkpoints\\assets\n",
      "4/4 [==============================] - 13s 4s/step - loss: 1.6594 - accuracy: 0.4595 - val_loss: 2.0830 - val_accuracy: 0.7500\n",
      "Epoch 2/30\n",
      "4/4 [==============================] - ETA: 0s - loss: 0.9096 - accuracy: 0.7117\n",
      "Epoch 00002: val_loss improved from 2.08302 to 1.24034, saving model to D:\\brain_tumor_dataset\\checkpoints\n",
      "INFO:tensorflow:Assets written to: D:\\brain_tumor_dataset\\checkpoints\\assets\n",
      "4/4 [==============================] - 17s 5s/step - loss: 0.9096 - accuracy: 0.7117 - val_loss: 1.2403 - val_accuracy: 0.8214\n",
      "Epoch 3/30\n",
      "4/4 [==============================] - ETA: 0s - loss: 0.8788 - accuracy: 0.7297\n",
      "Epoch 00003: val_loss improved from 1.24034 to 0.99574, saving model to D:\\brain_tumor_dataset\\checkpoints\n",
      "INFO:tensorflow:Assets written to: D:\\brain_tumor_dataset\\checkpoints\\assets\n",
      "4/4 [==============================] - 13s 4s/step - loss: 0.8788 - accuracy: 0.7297 - val_loss: 0.9957 - val_accuracy: 0.7500\n",
      "Epoch 4/30\n",
      "4/4 [==============================] - ETA: 0s - loss: 0.5029 - accuracy: 0.8468\n",
      "Epoch 00004: val_loss did not improve from 0.99574\n",
      "4/4 [==============================] - 4s 868ms/step - loss: 0.5029 - accuracy: 0.8468 - val_loss: 1.4443 - val_accuracy: 0.6786\n",
      "Epoch 5/30\n",
      "4/4 [==============================] - ETA: 0s - loss: 0.4195 - accuracy: 0.9189\n",
      "Epoch 00005: val_loss did not improve from 0.99574\n",
      "4/4 [==============================] - 4s 878ms/step - loss: 0.4195 - accuracy: 0.9189 - val_loss: 1.8400 - val_accuracy: 0.6071\n",
      "Epoch 6/30\n",
      "4/4 [==============================] - ETA: 0s - loss: 0.3515 - accuracy: 0.8829\n",
      "Epoch 00006: val_loss did not improve from 0.99574\n",
      "4/4 [==============================] - 4s 875ms/step - loss: 0.3515 - accuracy: 0.8829 - val_loss: 1.3318 - val_accuracy: 0.6429\n",
      "Epoch 7/30\n",
      "4/4 [==============================] - ETA: 0s - loss: 0.3004 - accuracy: 0.9369\n",
      "Epoch 00007: val_loss did not improve from 0.99574\n",
      "4/4 [==============================] - 4s 885ms/step - loss: 0.3004 - accuracy: 0.9369 - val_loss: 1.2486 - val_accuracy: 0.6786\n",
      "Epoch 8/30\n",
      "4/4 [==============================] - ETA: 0s - loss: 0.2476 - accuracy: 0.9640\n",
      "Epoch 00008: val_loss did not improve from 0.99574\n",
      "4/4 [==============================] - 4s 885ms/step - loss: 0.2476 - accuracy: 0.9640 - val_loss: 1.1795 - val_accuracy: 0.7143\n",
      "Epoch 00008: early stopping\n"
     ]
    }
   ],
   "source": [
    "history = model.fit(x_train, y_train, epochs = 30, batch_size =32, verbose = 1,validation_data = (x_test, y_test),callbacks=[callback,checkpoint])"
   ]
  },
  {
   "cell_type": "code",
   "execution_count": 17,
   "id": "2b8c0e0d",
   "metadata": {
    "execution": {
     "iopub.execute_input": "2021-11-03T06:07:44.434562Z",
     "iopub.status.busy": "2021-11-03T06:07:44.433489Z",
     "iopub.status.idle": "2021-11-03T06:07:44.679621Z",
     "shell.execute_reply": "2021-11-03T06:07:44.679051Z",
     "shell.execute_reply.started": "2021-11-03T05:46:24.548671Z"
    },
    "papermill": {
     "duration": 0.314839,
     "end_time": "2021-11-03T06:07:44.679774",
     "exception": false,
     "start_time": "2021-11-03T06:07:44.364935",
     "status": "completed"
    },
    "tags": []
   },
   "outputs": [
    {
     "data": {
      "image/png": "[encoded data removed]",
      "text/plain": [
       "<Figure size 432x288 with 1 Axes>"
      ]
     },
     "metadata": {},
     "output_type": "display_data"
    }
   ],
   "source": [
    "plt.plot(history.history['accuracy'])\n",
    "plt.plot(history.history['val_accuracy'])\n",
    "plt.title('Model Loss')\n",
    "plt.ylabel('Loss')\n",
    "plt.xlabel('Epoch')\n",
    "plt.legend(['Train', 'Validation'], loc='upper right')\n",
    "plt.show()"
   ]
  },
  {
   "cell_type": "code",
   "execution_count": 23,
   "id": "2a2e702e",
   "metadata": {
    "execution": {
     "iopub.execute_input": "2021-11-03T06:07:44.819506Z",
     "iopub.status.busy": "2021-11-03T06:07:44.818391Z",
     "iopub.status.idle": "2021-11-03T06:07:44.820656Z",
     "shell.execute_reply": "2021-11-03T06:07:44.821362Z",
     "shell.execute_reply.started": "2021-11-03T05:46:32.459679Z"
    },
    "papermill": {
     "duration": 0.07426,
     "end_time": "2021-11-03T06:07:44.821555",
     "exception": false,
     "start_time": "2021-11-03T06:07:44.747295",
     "status": "completed"
    },
    "tags": []
   },
   "outputs": [],
   "source": [
    "def names(number):\n",
    "    if number==0:\n",
    "        return 'Sorry this person affect by tumor'\n",
    "    else:\n",
    "        return 'Thank God, Its not a tumor'"
   ]
  },
  {
   "cell_type": "code",
   "execution_count": 27,
   "id": "4b1f6d3f",
   "metadata": {
    "execution": {
     "iopub.execute_input": "2021-11-03T06:07:45.022893Z",
     "iopub.status.busy": "2021-11-03T06:07:45.021873Z",
     "iopub.status.idle": "2021-11-03T06:07:45.440424Z",
     "shell.execute_reply": "2021-11-03T06:07:45.440959Z",
     "shell.execute_reply.started": "2021-11-03T05:46:39.222923Z"
    },
    "papermill": {
     "duration": 0.553179,
     "end_time": "2021-11-03T06:07:45.441142",
     "exception": false,
     "start_time": "2021-11-03T06:07:44.887963",
     "status": "completed"
    },
    "tags": []
   },
   "outputs": [
    {
     "name": "stdout",
     "output_type": "stream",
     "text": [
      "93.27893257141113% Confidence  Thank God, Its not a tumor\n"
     ]
    },
    {
     "data": {
      "image/png": "[encoded data removed]",
      "text/plain": [
       "<Figure size 432x288 with 1 Axes>"
      ]
     },
     "metadata": {},
     "output_type": "display_data"
    }
   ],
   "source": [
    "from matplotlib.pyplot import imshow\n",
    "img = Image.open(r\"D:\\brain_tumor_dataset/data/no/N17.jpg\")\n",
    "x = np.array(img.resize((128,128)))\n",
    "x = x.reshape(1,128,128,3)\n",
    "res = model.predict(x)\n",
    "classification = np.where(res == np.amax(res))[1][0]\n",
    "imshow(img)\n",
    "print(str(res[0][classification]*100) + '% Confidence  ' + names(classification))"
   ]
  },
  {
   "cell_type": "code",
   "execution_count": 30,
   "id": "4ba17210",
   "metadata": {
    "execution": {
     "iopub.execute_input": "2021-11-03T06:07:45.580783Z",
     "iopub.status.busy": "2021-11-03T06:07:45.580085Z",
     "iopub.status.idle": "2021-11-03T06:07:45.864002Z",
     "shell.execute_reply": "2021-11-03T06:07:45.864551Z",
     "shell.execute_reply.started": "2021-11-03T05:46:54.329233Z"
    },
    "papermill": {
     "duration": 0.355393,
     "end_time": "2021-11-03T06:07:45.864731",
     "exception": false,
     "start_time": "2021-11-03T06:07:45.509338",
     "status": "completed"
    },
    "tags": []
   },
   "outputs": [
    {
     "name": "stdout",
     "output_type": "stream",
     "text": [
      "88.75309228897095% Confidence,Sorry this person affect by tumor\n"
     ]
    },
    {
     "data": {
      "image/png": "[encoded data removed]",
      "text/plain": [
       "<Figure size 432x288 with 1 Axes>"
      ]
     },
     "metadata": {},
     "output_type": "display_data"
    }
   ],
   "source": [
    "from matplotlib.pyplot import imshow\n",
    "img = Image.open(r\"D:\\brain_tumor_dataset/data/yes/Y3.jpg\")\n",
    "x = np.array(img.resize((128,128)))\n",
    "x = x.reshape(1,128,128,3)\n",
    "res = model.predict(x)\n",
    "classification = np.where(res == np.amax(res))[1][0]\n",
    "imshow(img)\n",
    "print(str(res[0][classification]*100) + '% Confidence,' + names(classification))"
   ]
  },
  {
   "cell_type": "code",
   "execution_count": null,
   "id": "ee917646",
   "metadata": {},
   "outputs": [],
   "source": []
  }
 ],
 "metadata": {
  "kernelspec": {
   "display_name": "Python 3 (ipykernel)",
   "language": "python",
   "name": "python3"
  },
  "language_info": {
   "codemirror_mode": {
    "name": "ipython",
    "version": 3
   },
   "file_extension": ".py",
   "mimetype": "text/x-python",
   "name": "python",
   "nbconvert_exporter": "python",
   "pygments_lexer": "ipython3",
   "version": "3.9.7"
  },
  "papermill": {
   "default_parameters": {},
   "duration": 99.876995,
   "end_time": "2021-11-03T06:07:49.034577",
   "environment_variables": {},
   "exception": null,
   "input_path": "__notebook__.ipynb",
   "output_path": "__notebook__.ipynb",
   "parameters": {},
   "start_time": "2021-11-03T06:06:09.157582",
   "version": "2.3.3"
  }
 },
 "nbformat": 4,
 "nbformat_minor": 5
}
